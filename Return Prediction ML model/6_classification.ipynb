{
 "cells": [
  {
   "cell_type": "code",
   "execution_count": 54,
   "metadata": {
    "scrolled": true
   },
   "outputs": [],
   "source": [
    "import numpy as np\n",
    "import pandas as pd\n",
    "from math import sqrt\n",
    "\n",
    "\n",
    "import matplotlib.pyplot as plt\n",
    "from tqdm.notebook import tqdm\n",
    "\n",
    "from sklearn.preprocessing import StandardScaler\n",
    "from sklearn.metrics import mean_squared_error\n",
    "\n",
    "from sklearn.model_selection import train_test_split,cross_val_score,cross_validate\n",
    "from sklearn.model_selection import TimeSeriesSplit\n",
    "from sklearn.model_selection import GridSearchCV,RandomizedSearchCV\n",
    "\n",
    "from sklearn import linear_model\n",
    "from sklearn.linear_model import Lasso,LassoCV,LassoLarsCV \n",
    "from sklearn.neural_network import MLPRegressor\n"
   ]
  },
  {
   "cell_type": "code",
   "execution_count": 55,
   "metadata": {
    "scrolled": true
   },
   "outputs": [
    {
     "data": {
      "text/html": [
       "<div>\n",
       "<style scoped>\n",
       "    .dataframe tbody tr th:only-of-type {\n",
       "        vertical-align: middle;\n",
       "    }\n",
       "\n",
       "    .dataframe tbody tr th {\n",
       "        vertical-align: top;\n",
       "    }\n",
       "\n",
       "    .dataframe thead th {\n",
       "        text-align: right;\n",
       "    }\n",
       "</style>\n",
       "<table border=\"1\" class=\"dataframe\">\n",
       "  <thead>\n",
       "    <tr style=\"text-align: right;\">\n",
       "      <th></th>\n",
       "      <th>55976</th>\n",
       "      <th>41072</th>\n",
       "      <th>27748</th>\n",
       "      <th>75259</th>\n",
       "      <th>40970</th>\n",
       "      <th>62519</th>\n",
       "      <th>21792</th>\n",
       "      <th>54084</th>\n",
       "      <th>55511</th>\n",
       "      <th>10302</th>\n",
       "      <th>...</th>\n",
       "      <th>63829</th>\n",
       "      <th>44986</th>\n",
       "      <th>11891</th>\n",
       "      <th>22752</th>\n",
       "      <th>27780</th>\n",
       "      <th>59379</th>\n",
       "      <th>75162</th>\n",
       "      <th>27705</th>\n",
       "      <th>54594</th>\n",
       "      <th>48725</th>\n",
       "    </tr>\n",
       "    <tr>\n",
       "      <th>Dates</th>\n",
       "      <th></th>\n",
       "      <th></th>\n",
       "      <th></th>\n",
       "      <th></th>\n",
       "      <th></th>\n",
       "      <th></th>\n",
       "      <th></th>\n",
       "      <th></th>\n",
       "      <th></th>\n",
       "      <th></th>\n",
       "      <th></th>\n",
       "      <th></th>\n",
       "      <th></th>\n",
       "      <th></th>\n",
       "      <th></th>\n",
       "      <th></th>\n",
       "      <th></th>\n",
       "      <th></th>\n",
       "      <th></th>\n",
       "      <th></th>\n",
       "      <th></th>\n",
       "    </tr>\n",
       "  </thead>\n",
       "  <tbody>\n",
       "    <tr>\n",
       "      <th>1993-04-01</th>\n",
       "      <td>-0.019685</td>\n",
       "      <td>0.019391</td>\n",
       "      <td>-0.007282</td>\n",
       "      <td>-0.003891</td>\n",
       "      <td>0.083333</td>\n",
       "      <td>0.027027</td>\n",
       "      <td>0.005348</td>\n",
       "      <td>0.020000</td>\n",
       "      <td>-0.010417</td>\n",
       "      <td>-0.025000</td>\n",
       "      <td>...</td>\n",
       "      <td>0.108108</td>\n",
       "      <td>-0.019048</td>\n",
       "      <td>-0.017857</td>\n",
       "      <td>-0.028269</td>\n",
       "      <td>0.000000</td>\n",
       "      <td>0.006173</td>\n",
       "      <td>-0.023669</td>\n",
       "      <td>0.000000</td>\n",
       "      <td>0.031915</td>\n",
       "      <td>0.014433</td>\n",
       "    </tr>\n",
       "    <tr>\n",
       "      <th>1993-04-02</th>\n",
       "      <td>-0.020080</td>\n",
       "      <td>0.002717</td>\n",
       "      <td>-0.002445</td>\n",
       "      <td>0.058594</td>\n",
       "      <td>-0.038462</td>\n",
       "      <td>-0.026316</td>\n",
       "      <td>-0.007979</td>\n",
       "      <td>-0.019608</td>\n",
       "      <td>-0.021053</td>\n",
       "      <td>-0.025641</td>\n",
       "      <td>...</td>\n",
       "      <td>0.000000</td>\n",
       "      <td>-0.016181</td>\n",
       "      <td>-0.031818</td>\n",
       "      <td>-0.010909</td>\n",
       "      <td>0.000000</td>\n",
       "      <td>-0.020450</td>\n",
       "      <td>0.012121</td>\n",
       "      <td>-0.032609</td>\n",
       "      <td>0.020619</td>\n",
       "      <td>-0.010163</td>\n",
       "    </tr>\n",
       "    <tr>\n",
       "      <th>1993-04-05</th>\n",
       "      <td>-0.024590</td>\n",
       "      <td>-0.006775</td>\n",
       "      <td>-0.002451</td>\n",
       "      <td>0.022140</td>\n",
       "      <td>-0.040000</td>\n",
       "      <td>0.027027</td>\n",
       "      <td>0.005362</td>\n",
       "      <td>0.000000</td>\n",
       "      <td>0.021505</td>\n",
       "      <td>0.026316</td>\n",
       "      <td>...</td>\n",
       "      <td>-0.048780</td>\n",
       "      <td>-0.003289</td>\n",
       "      <td>0.032864</td>\n",
       "      <td>0.003676</td>\n",
       "      <td>-0.005102</td>\n",
       "      <td>0.018789</td>\n",
       "      <td>-0.005988</td>\n",
       "      <td>-0.011236</td>\n",
       "      <td>-0.010101</td>\n",
       "      <td>0.026694</td>\n",
       "    </tr>\n",
       "    <tr>\n",
       "      <th>1993-04-06</th>\n",
       "      <td>-0.067227</td>\n",
       "      <td>0.009550</td>\n",
       "      <td>-0.007371</td>\n",
       "      <td>0.025271</td>\n",
       "      <td>0.041667</td>\n",
       "      <td>0.052632</td>\n",
       "      <td>0.005333</td>\n",
       "      <td>0.000000</td>\n",
       "      <td>0.000000</td>\n",
       "      <td>0.038462</td>\n",
       "      <td>...</td>\n",
       "      <td>-0.025641</td>\n",
       "      <td>-0.023102</td>\n",
       "      <td>-0.009091</td>\n",
       "      <td>-0.007326</td>\n",
       "      <td>0.005128</td>\n",
       "      <td>0.002049</td>\n",
       "      <td>-0.024096</td>\n",
       "      <td>-0.011364</td>\n",
       "      <td>-0.010204</td>\n",
       "      <td>0.014000</td>\n",
       "    </tr>\n",
       "    <tr>\n",
       "      <th>1993-04-07</th>\n",
       "      <td>0.000000</td>\n",
       "      <td>0.005405</td>\n",
       "      <td>0.000000</td>\n",
       "      <td>0.021127</td>\n",
       "      <td>0.040000</td>\n",
       "      <td>-0.050000</td>\n",
       "      <td>0.002653</td>\n",
       "      <td>0.000000</td>\n",
       "      <td>0.010526</td>\n",
       "      <td>0.012346</td>\n",
       "      <td>...</td>\n",
       "      <td>-0.013158</td>\n",
       "      <td>0.016892</td>\n",
       "      <td>0.018349</td>\n",
       "      <td>0.000000</td>\n",
       "      <td>0.010204</td>\n",
       "      <td>0.014315</td>\n",
       "      <td>0.000000</td>\n",
       "      <td>0.011494</td>\n",
       "      <td>0.000000</td>\n",
       "      <td>0.005917</td>\n",
       "    </tr>\n",
       "    <tr>\n",
       "      <th>...</th>\n",
       "      <td>...</td>\n",
       "      <td>...</td>\n",
       "      <td>...</td>\n",
       "      <td>...</td>\n",
       "      <td>...</td>\n",
       "      <td>...</td>\n",
       "      <td>...</td>\n",
       "      <td>...</td>\n",
       "      <td>...</td>\n",
       "      <td>...</td>\n",
       "      <td>...</td>\n",
       "      <td>...</td>\n",
       "      <td>...</td>\n",
       "      <td>...</td>\n",
       "      <td>...</td>\n",
       "      <td>...</td>\n",
       "      <td>...</td>\n",
       "      <td>...</td>\n",
       "      <td>...</td>\n",
       "      <td>...</td>\n",
       "      <td>...</td>\n",
       "    </tr>\n",
       "    <tr>\n",
       "      <th>2000-12-22</th>\n",
       "      <td>0.014493</td>\n",
       "      <td>0.025678</td>\n",
       "      <td>0.003630</td>\n",
       "      <td>0.077551</td>\n",
       "      <td>0.000000</td>\n",
       "      <td>0.011811</td>\n",
       "      <td>-0.004354</td>\n",
       "      <td>0.035714</td>\n",
       "      <td>0.012285</td>\n",
       "      <td>0.069767</td>\n",
       "      <td>...</td>\n",
       "      <td>0.000000</td>\n",
       "      <td>0.016418</td>\n",
       "      <td>-0.007426</td>\n",
       "      <td>-0.021622</td>\n",
       "      <td>-0.029727</td>\n",
       "      <td>-0.006281</td>\n",
       "      <td>0.002066</td>\n",
       "      <td>0.100446</td>\n",
       "      <td>-0.010989</td>\n",
       "      <td>0.026415</td>\n",
       "    </tr>\n",
       "    <tr>\n",
       "      <th>2000-12-26</th>\n",
       "      <td>-0.035714</td>\n",
       "      <td>0.034771</td>\n",
       "      <td>0.007233</td>\n",
       "      <td>-0.056818</td>\n",
       "      <td>-0.063830</td>\n",
       "      <td>0.060311</td>\n",
       "      <td>0.029155</td>\n",
       "      <td>-0.034483</td>\n",
       "      <td>0.026699</td>\n",
       "      <td>0.006211</td>\n",
       "      <td>...</td>\n",
       "      <td>0.027027</td>\n",
       "      <td>0.004405</td>\n",
       "      <td>0.034913</td>\n",
       "      <td>0.024171</td>\n",
       "      <td>0.026961</td>\n",
       "      <td>0.022756</td>\n",
       "      <td>-0.008247</td>\n",
       "      <td>-0.034483</td>\n",
       "      <td>-0.027778</td>\n",
       "      <td>0.003676</td>\n",
       "    </tr>\n",
       "    <tr>\n",
       "      <th>2000-12-27</th>\n",
       "      <td>0.038272</td>\n",
       "      <td>0.001344</td>\n",
       "      <td>0.001795</td>\n",
       "      <td>0.000000</td>\n",
       "      <td>0.090909</td>\n",
       "      <td>-0.042202</td>\n",
       "      <td>0.000000</td>\n",
       "      <td>-0.035714</td>\n",
       "      <td>0.021277</td>\n",
       "      <td>0.015432</td>\n",
       "      <td>...</td>\n",
       "      <td>0.052632</td>\n",
       "      <td>0.038012</td>\n",
       "      <td>0.069880</td>\n",
       "      <td>0.000000</td>\n",
       "      <td>0.047733</td>\n",
       "      <td>0.014833</td>\n",
       "      <td>0.022869</td>\n",
       "      <td>0.027311</td>\n",
       "      <td>0.005714</td>\n",
       "      <td>0.028083</td>\n",
       "    </tr>\n",
       "    <tr>\n",
       "      <th>2000-12-28</th>\n",
       "      <td>0.007134</td>\n",
       "      <td>0.055034</td>\n",
       "      <td>-0.003584</td>\n",
       "      <td>0.052209</td>\n",
       "      <td>-0.020833</td>\n",
       "      <td>0.063218</td>\n",
       "      <td>-0.011331</td>\n",
       "      <td>-0.074074</td>\n",
       "      <td>0.002315</td>\n",
       "      <td>-0.009119</td>\n",
       "      <td>...</td>\n",
       "      <td>-0.025000</td>\n",
       "      <td>0.036620</td>\n",
       "      <td>0.015766</td>\n",
       "      <td>0.022252</td>\n",
       "      <td>0.017084</td>\n",
       "      <td>-0.003654</td>\n",
       "      <td>0.077236</td>\n",
       "      <td>0.004090</td>\n",
       "      <td>0.000000</td>\n",
       "      <td>-0.040380</td>\n",
       "    </tr>\n",
       "    <tr>\n",
       "      <th>2000-12-29</th>\n",
       "      <td>0.003542</td>\n",
       "      <td>-0.022901</td>\n",
       "      <td>0.032374</td>\n",
       "      <td>-0.049618</td>\n",
       "      <td>0.148936</td>\n",
       "      <td>-0.018018</td>\n",
       "      <td>-0.007163</td>\n",
       "      <td>0.240000</td>\n",
       "      <td>-0.009238</td>\n",
       "      <td>-0.033742</td>\n",
       "      <td>...</td>\n",
       "      <td>0.051282</td>\n",
       "      <td>0.008152</td>\n",
       "      <td>0.000000</td>\n",
       "      <td>-0.011873</td>\n",
       "      <td>-0.017917</td>\n",
       "      <td>-0.037897</td>\n",
       "      <td>-0.024528</td>\n",
       "      <td>-0.022403</td>\n",
       "      <td>0.147727</td>\n",
       "      <td>0.004950</td>\n",
       "    </tr>\n",
       "  </tbody>\n",
       "</table>\n",
       "<p>1958 rows × 100 columns</p>\n",
       "</div>"
      ],
      "text/plain": [
       "               55976     41072     27748     75259     40970     62519  \\\n",
       "Dates                                                                    \n",
       "1993-04-01 -0.019685  0.019391 -0.007282 -0.003891  0.083333  0.027027   \n",
       "1993-04-02 -0.020080  0.002717 -0.002445  0.058594 -0.038462 -0.026316   \n",
       "1993-04-05 -0.024590 -0.006775 -0.002451  0.022140 -0.040000  0.027027   \n",
       "1993-04-06 -0.067227  0.009550 -0.007371  0.025271  0.041667  0.052632   \n",
       "1993-04-07  0.000000  0.005405  0.000000  0.021127  0.040000 -0.050000   \n",
       "...              ...       ...       ...       ...       ...       ...   \n",
       "2000-12-22  0.014493  0.025678  0.003630  0.077551  0.000000  0.011811   \n",
       "2000-12-26 -0.035714  0.034771  0.007233 -0.056818 -0.063830  0.060311   \n",
       "2000-12-27  0.038272  0.001344  0.001795  0.000000  0.090909 -0.042202   \n",
       "2000-12-28  0.007134  0.055034 -0.003584  0.052209 -0.020833  0.063218   \n",
       "2000-12-29  0.003542 -0.022901  0.032374 -0.049618  0.148936 -0.018018   \n",
       "\n",
       "               21792     54084     55511     10302  ...     63829     44986  \\\n",
       "Dates                                               ...                       \n",
       "1993-04-01  0.005348  0.020000 -0.010417 -0.025000  ...  0.108108 -0.019048   \n",
       "1993-04-02 -0.007979 -0.019608 -0.021053 -0.025641  ...  0.000000 -0.016181   \n",
       "1993-04-05  0.005362  0.000000  0.021505  0.026316  ... -0.048780 -0.003289   \n",
       "1993-04-06  0.005333  0.000000  0.000000  0.038462  ... -0.025641 -0.023102   \n",
       "1993-04-07  0.002653  0.000000  0.010526  0.012346  ... -0.013158  0.016892   \n",
       "...              ...       ...       ...       ...  ...       ...       ...   \n",
       "2000-12-22 -0.004354  0.035714  0.012285  0.069767  ...  0.000000  0.016418   \n",
       "2000-12-26  0.029155 -0.034483  0.026699  0.006211  ...  0.027027  0.004405   \n",
       "2000-12-27  0.000000 -0.035714  0.021277  0.015432  ...  0.052632  0.038012   \n",
       "2000-12-28 -0.011331 -0.074074  0.002315 -0.009119  ... -0.025000  0.036620   \n",
       "2000-12-29 -0.007163  0.240000 -0.009238 -0.033742  ...  0.051282  0.008152   \n",
       "\n",
       "               11891     22752     27780     59379     75162     27705  \\\n",
       "Dates                                                                    \n",
       "1993-04-01 -0.017857 -0.028269  0.000000  0.006173 -0.023669  0.000000   \n",
       "1993-04-02 -0.031818 -0.010909  0.000000 -0.020450  0.012121 -0.032609   \n",
       "1993-04-05  0.032864  0.003676 -0.005102  0.018789 -0.005988 -0.011236   \n",
       "1993-04-06 -0.009091 -0.007326  0.005128  0.002049 -0.024096 -0.011364   \n",
       "1993-04-07  0.018349  0.000000  0.010204  0.014315  0.000000  0.011494   \n",
       "...              ...       ...       ...       ...       ...       ...   \n",
       "2000-12-22 -0.007426 -0.021622 -0.029727 -0.006281  0.002066  0.100446   \n",
       "2000-12-26  0.034913  0.024171  0.026961  0.022756 -0.008247 -0.034483   \n",
       "2000-12-27  0.069880  0.000000  0.047733  0.014833  0.022869  0.027311   \n",
       "2000-12-28  0.015766  0.022252  0.017084 -0.003654  0.077236  0.004090   \n",
       "2000-12-29  0.000000 -0.011873 -0.017917 -0.037897 -0.024528 -0.022403   \n",
       "\n",
       "               54594     48725  \n",
       "Dates                           \n",
       "1993-04-01  0.031915  0.014433  \n",
       "1993-04-02  0.020619 -0.010163  \n",
       "1993-04-05 -0.010101  0.026694  \n",
       "1993-04-06 -0.010204  0.014000  \n",
       "1993-04-07  0.000000  0.005917  \n",
       "...              ...       ...  \n",
       "2000-12-22 -0.010989  0.026415  \n",
       "2000-12-26 -0.027778  0.003676  \n",
       "2000-12-27  0.005714  0.028083  \n",
       "2000-12-28  0.000000 -0.040380  \n",
       "2000-12-29  0.147727  0.004950  \n",
       "\n",
       "[1958 rows x 100 columns]"
      ]
     },
     "execution_count": 55,
     "metadata": {},
     "output_type": "execute_result"
    }
   ],
   "source": [
    "returns = pd.read_excel(\"Returns_Clean.xlsx\", index_col = 'Dates')\n",
    "returns.index = pd.to_datetime(returns.index, format='%Y%m%d')\n",
    "returns"
   ]
  },
  {
   "cell_type": "code",
   "execution_count": 64,
   "metadata": {},
   "outputs": [],
   "source": [
    "# inputs: result -- model result dataframe\n",
    "#         model_name -- 'LR', 'LASSO', 'RF', 'MLPR'\n",
    "\n",
    "def classify(result, model_name):\n",
    "    \n",
    "    returns_class['{}_pred'.format(model_name)] = np.zeros(length)\n",
    "    for t in tqdm(result.index):\n",
    "        returns_t = returns.loc[t]\n",
    "        p_25 = np.percentile(returns_t, 25)\n",
    "        p_50 = np.percentile(returns_t, 50)\n",
    "        p_75 = np.percentile(returns_t, 75)\n",
    "        \n",
    "        if result['Predicted Returns'][t] <= p_25:\n",
    "            returns_class.loc[[t],['{}_pred'.format(model_name)]] = 1\n",
    "        if p_25 < result['Predicted Returns'][t] <= p_50:\n",
    "            returns_class.loc[[t],['{}_pred'.format(model_name)]] = 2\n",
    "        if p_50 < result['Predicted Returns'][t] <= p_75:\n",
    "            returns_class.loc[[t],['{}_pred'.format(model_name)]] = 3\n",
    "        else:\n",
    "            returns_class.loc[[t],['{}_pred'.format(model_name)]] = 4\n",
    "\n",
    "    return returns_class['{}_pred'.format(model_name)]"
   ]
  },
  {
   "cell_type": "code",
   "execution_count": 65,
   "metadata": {},
   "outputs": [
    {
     "data": {
      "application/vnd.jupyter.widget-view+json": {
       "model_id": "4b2572d362ff4655aedd53ac5de4f1a8",
       "version_major": 2,
       "version_minor": 0
      },
      "text/plain": [
       "HBox(children=(FloatProgress(value=0.0, max=1702.0), HTML(value='')))"
      ]
     },
     "metadata": {},
     "output_type": "display_data"
    },
    {
     "name": "stdout",
     "output_type": "stream",
     "text": [
      "\n"
     ]
    },
    {
     "data": {
      "text/plain": [
       "Date\n",
       "1994-04-06    4.0\n",
       "1994-04-07    3.0\n",
       "1994-04-08    4.0\n",
       "1994-04-11    3.0\n",
       "1994-04-12    3.0\n",
       "             ... \n",
       "2000-12-22    4.0\n",
       "2000-12-26    4.0\n",
       "2000-12-27    4.0\n",
       "2000-12-28    4.0\n",
       "2000-12-29    3.0\n",
       "Name: LR_pred, Length: 1702, dtype: float64"
      ]
     },
     "execution_count": 65,
     "metadata": {},
     "output_type": "execute_result"
    }
   ],
   "source": [
    "# Import result from Linear Regression model\n",
    "LR_result = pd.read_csv(\"linear_result.csv\", index_col = 'Date')\n",
    "LR_result.index = pd.to_datetime(LR_result.index, format='%Y%m%d')\n",
    "length = len(LR_result)\n",
    "# Classify RF prediction returns\n",
    "returns_class = pd.DataFrame(index = LR_result.index)\n",
    "classify(LR_result, 'LR')"
   ]
  },
  {
   "cell_type": "code",
   "execution_count": 66,
   "metadata": {
    "scrolled": true
   },
   "outputs": [
    {
     "data": {
      "application/vnd.jupyter.widget-view+json": {
       "model_id": "1dbd0b2e41c64f6d873b33a15e9995c8",
       "version_major": 2,
       "version_minor": 0
      },
      "text/plain": [
       "HBox(children=(FloatProgress(value=0.0, max=1702.0), HTML(value='')))"
      ]
     },
     "metadata": {},
     "output_type": "display_data"
    },
    {
     "name": "stdout",
     "output_type": "stream",
     "text": [
      "\n"
     ]
    },
    {
     "data": {
      "text/plain": [
       "Date\n",
       "1994-04-06    3.0\n",
       "1994-04-07    4.0\n",
       "1994-04-08    3.0\n",
       "1994-04-11    3.0\n",
       "1994-04-12    3.0\n",
       "             ... \n",
       "2000-12-22    4.0\n",
       "2000-12-26    4.0\n",
       "2000-12-27    4.0\n",
       "2000-12-28    4.0\n",
       "2000-12-29    4.0\n",
       "Name: LASSO_pred, Length: 1702, dtype: float64"
      ]
     },
     "execution_count": 66,
     "metadata": {},
     "output_type": "execute_result"
    }
   ],
   "source": [
    "# Import result from LASSO model \n",
    "LASSO_result = pd.read_excel(\"LASSO_portfolio_results.xlsx\", index_col = 'Date')\n",
    "LASSO_result.index = pd.to_datetime(LASSO_result.index, format='%Y%m%d')\n",
    "\n",
    "# Classify LASSO prediction returns\n",
    "classify(LASSO_result, 'LASSO')\n",
    "\n"
   ]
  },
  {
   "cell_type": "code",
   "execution_count": 68,
   "metadata": {},
   "outputs": [
    {
     "data": {
      "application/vnd.jupyter.widget-view+json": {
       "model_id": "be3ee0073e3f4112baa2579ee658e85a",
       "version_major": 2,
       "version_minor": 0
      },
      "text/plain": [
       "HBox(children=(FloatProgress(value=0.0, max=1702.0), HTML(value='')))"
      ]
     },
     "metadata": {},
     "output_type": "display_data"
    },
    {
     "name": "stdout",
     "output_type": "stream",
     "text": [
      "\n"
     ]
    },
    {
     "data": {
      "text/plain": [
       "Date\n",
       "1994-04-06    3.0\n",
       "1994-04-07    4.0\n",
       "1994-04-08    4.0\n",
       "1994-04-11    4.0\n",
       "1994-04-12    4.0\n",
       "             ... \n",
       "2000-12-22    4.0\n",
       "2000-12-26    3.0\n",
       "2000-12-27    4.0\n",
       "2000-12-28    4.0\n",
       "2000-12-29    4.0\n",
       "Name: RF_pred, Length: 1702, dtype: float64"
      ]
     },
     "execution_count": 68,
     "metadata": {},
     "output_type": "execute_result"
    }
   ],
   "source": [
    "# Import result from Random Forest model\n",
    "RF_result = pd.read_csv(\"random_forest_result.csv\", index_col = 'Date')\n",
    "RF_result.index = pd.to_datetime(RF_result.index, format='%Y%m%d')\n",
    "# Classify RF prediction returns\n",
    "classify(RF_result, 'RF')"
   ]
  },
  {
   "cell_type": "code",
   "execution_count": 123,
   "metadata": {},
   "outputs": [
    {
     "data": {
      "application/vnd.jupyter.widget-view+json": {
       "model_id": "f82d36ac78784a13ad3a0c2c4d27cf4a",
       "version_major": 2,
       "version_minor": 0
      },
      "text/plain": [
       "HBox(children=(FloatProgress(value=0.0, max=1702.0), HTML(value='')))"
      ]
     },
     "metadata": {},
     "output_type": "display_data"
    },
    {
     "name": "stdout",
     "output_type": "stream",
     "text": [
      "\n"
     ]
    },
    {
     "data": {
      "text/plain": [
       "Date\n",
       "1994-04-06    4.0\n",
       "1994-04-07    4.0\n",
       "1994-04-08    4.0\n",
       "1994-04-11    4.0\n",
       "1994-04-12    4.0\n",
       "             ... \n",
       "2000-12-22    4.0\n",
       "2000-12-26    4.0\n",
       "2000-12-27    4.0\n",
       "2000-12-28    4.0\n",
       "2000-12-29    4.0\n",
       "Name: MLPR_pred, Length: 1702, dtype: float64"
      ]
     },
     "execution_count": 123,
     "metadata": {},
     "output_type": "execute_result"
    }
   ],
   "source": [
    "# Import result from Random Forest model\n",
    "MLPR_result = pd.read_excel(\"Grid-MLPR_portfolio_results.xlsx\", index_col = 'Date')\n",
    "MLPR_result.index = pd.to_datetime(MLPR_result.index, format='%Y%m%d')\n",
    "# Classify RF prediction returns\n",
    "classify(MLPR_result, 'MLPR')"
   ]
  },
  {
   "cell_type": "code",
   "execution_count": 67,
   "metadata": {
    "scrolled": true
   },
   "outputs": [
    {
     "data": {
      "application/vnd.jupyter.widget-view+json": {
       "model_id": "9634c5e061f94e40bf07bafd36623157",
       "version_major": 2,
       "version_minor": 0
      },
      "text/plain": [
       "HBox(children=(FloatProgress(value=0.0, max=1702.0), HTML(value='')))"
      ]
     },
     "metadata": {},
     "output_type": "display_data"
    },
    {
     "name": "stdout",
     "output_type": "stream",
     "text": [
      "\n"
     ]
    },
    {
     "data": {
      "text/plain": [
       "Date\n",
       "1994-04-06    4.0\n",
       "1994-04-07    3.0\n",
       "1994-04-08    4.0\n",
       "1994-04-11    4.0\n",
       "1994-04-12    4.0\n",
       "             ... \n",
       "2000-12-22    4.0\n",
       "2000-12-26    3.0\n",
       "2000-12-27    4.0\n",
       "2000-12-28    3.0\n",
       "2000-12-29    4.0\n",
       "Name: portfolio, Length: 1702, dtype: float64"
      ]
     },
     "execution_count": 67,
     "metadata": {},
     "output_type": "execute_result"
    }
   ],
   "source": [
    "# Classification on actual value of portfolio returns\n",
    "\n",
    "returns_class['portfolio'] = np.zeros(length)\n",
    "\n",
    "for t in tqdm(LR_result.index):\n",
    "#      Find 25, 50, 75 percentile of 100 stock returns at time t\n",
    "    returns_t = returns.loc[t]\n",
    "    p_25 = np.percentile(returns_t, 25)\n",
    "    p_50 = np.percentile(returns_t, 50)\n",
    "    p_75 = np.percentile(returns_t, 75)\n",
    "#     print(p_25)\n",
    "    if LR_result['Portfolio Returns'][t] <= p_25:\n",
    "        returns_class.loc[[t],['portfolio']] = 1\n",
    "    if p_25 < LR_result['Portfolio Returns'][t]<= p_50:\n",
    "        returns_class.loc[[t],['portfolio']] = 2\n",
    "    if p_50 < LR_result['Portfolio Returns'][t] <= p_75:\n",
    "        returns_class.loc[[t],['portfolio']] = 3\n",
    "    else:\n",
    "        returns_class.loc[[t],['portfolio']] = 4\n",
    "returns_class['portfolio']  "
   ]
  },
  {
   "cell_type": "code",
   "execution_count": 71,
   "metadata": {},
   "outputs": [],
   "source": [
    "returns_class['benchmark'] = returns_class.portfolio.shift(1)"
   ]
  },
  {
   "cell_type": "code",
   "execution_count": 124,
   "metadata": {},
   "outputs": [
    {
     "data": {
      "text/html": [
       "<div>\n",
       "<style scoped>\n",
       "    .dataframe tbody tr th:only-of-type {\n",
       "        vertical-align: middle;\n",
       "    }\n",
       "\n",
       "    .dataframe tbody tr th {\n",
       "        vertical-align: top;\n",
       "    }\n",
       "\n",
       "    .dataframe thead th {\n",
       "        text-align: right;\n",
       "    }\n",
       "</style>\n",
       "<table border=\"1\" class=\"dataframe\">\n",
       "  <thead>\n",
       "    <tr style=\"text-align: right;\">\n",
       "      <th></th>\n",
       "      <th>LR_pred</th>\n",
       "      <th>LASSO_pred</th>\n",
       "      <th>portfolio</th>\n",
       "      <th>RF_pred</th>\n",
       "      <th>benchmark</th>\n",
       "      <th>MLPR_pred</th>\n",
       "    </tr>\n",
       "    <tr>\n",
       "      <th>Date</th>\n",
       "      <th></th>\n",
       "      <th></th>\n",
       "      <th></th>\n",
       "      <th></th>\n",
       "      <th></th>\n",
       "      <th></th>\n",
       "    </tr>\n",
       "  </thead>\n",
       "  <tbody>\n",
       "    <tr>\n",
       "      <th>1994-04-06</th>\n",
       "      <td>4.0</td>\n",
       "      <td>3.0</td>\n",
       "      <td>4.0</td>\n",
       "      <td>3.0</td>\n",
       "      <td>NaN</td>\n",
       "      <td>4.0</td>\n",
       "    </tr>\n",
       "    <tr>\n",
       "      <th>1994-04-07</th>\n",
       "      <td>3.0</td>\n",
       "      <td>4.0</td>\n",
       "      <td>3.0</td>\n",
       "      <td>4.0</td>\n",
       "      <td>4.0</td>\n",
       "      <td>4.0</td>\n",
       "    </tr>\n",
       "    <tr>\n",
       "      <th>1994-04-08</th>\n",
       "      <td>4.0</td>\n",
       "      <td>3.0</td>\n",
       "      <td>4.0</td>\n",
       "      <td>4.0</td>\n",
       "      <td>3.0</td>\n",
       "      <td>4.0</td>\n",
       "    </tr>\n",
       "    <tr>\n",
       "      <th>1994-04-11</th>\n",
       "      <td>3.0</td>\n",
       "      <td>3.0</td>\n",
       "      <td>4.0</td>\n",
       "      <td>4.0</td>\n",
       "      <td>4.0</td>\n",
       "      <td>4.0</td>\n",
       "    </tr>\n",
       "    <tr>\n",
       "      <th>1994-04-12</th>\n",
       "      <td>3.0</td>\n",
       "      <td>3.0</td>\n",
       "      <td>4.0</td>\n",
       "      <td>4.0</td>\n",
       "      <td>4.0</td>\n",
       "      <td>4.0</td>\n",
       "    </tr>\n",
       "    <tr>\n",
       "      <th>...</th>\n",
       "      <td>...</td>\n",
       "      <td>...</td>\n",
       "      <td>...</td>\n",
       "      <td>...</td>\n",
       "      <td>...</td>\n",
       "      <td>...</td>\n",
       "    </tr>\n",
       "    <tr>\n",
       "      <th>2000-12-22</th>\n",
       "      <td>4.0</td>\n",
       "      <td>4.0</td>\n",
       "      <td>4.0</td>\n",
       "      <td>4.0</td>\n",
       "      <td>4.0</td>\n",
       "      <td>4.0</td>\n",
       "    </tr>\n",
       "    <tr>\n",
       "      <th>2000-12-26</th>\n",
       "      <td>4.0</td>\n",
       "      <td>4.0</td>\n",
       "      <td>3.0</td>\n",
       "      <td>3.0</td>\n",
       "      <td>4.0</td>\n",
       "      <td>4.0</td>\n",
       "    </tr>\n",
       "    <tr>\n",
       "      <th>2000-12-27</th>\n",
       "      <td>4.0</td>\n",
       "      <td>4.0</td>\n",
       "      <td>4.0</td>\n",
       "      <td>4.0</td>\n",
       "      <td>3.0</td>\n",
       "      <td>4.0</td>\n",
       "    </tr>\n",
       "    <tr>\n",
       "      <th>2000-12-28</th>\n",
       "      <td>4.0</td>\n",
       "      <td>4.0</td>\n",
       "      <td>3.0</td>\n",
       "      <td>4.0</td>\n",
       "      <td>4.0</td>\n",
       "      <td>4.0</td>\n",
       "    </tr>\n",
       "    <tr>\n",
       "      <th>2000-12-29</th>\n",
       "      <td>3.0</td>\n",
       "      <td>4.0</td>\n",
       "      <td>4.0</td>\n",
       "      <td>4.0</td>\n",
       "      <td>3.0</td>\n",
       "      <td>4.0</td>\n",
       "    </tr>\n",
       "  </tbody>\n",
       "</table>\n",
       "<p>1702 rows × 6 columns</p>\n",
       "</div>"
      ],
      "text/plain": [
       "            LR_pred  LASSO_pred  portfolio  RF_pred  benchmark  MLPR_pred\n",
       "Date                                                                     \n",
       "1994-04-06      4.0         3.0        4.0      3.0        NaN        4.0\n",
       "1994-04-07      3.0         4.0        3.0      4.0        4.0        4.0\n",
       "1994-04-08      4.0         3.0        4.0      4.0        3.0        4.0\n",
       "1994-04-11      3.0         3.0        4.0      4.0        4.0        4.0\n",
       "1994-04-12      3.0         3.0        4.0      4.0        4.0        4.0\n",
       "...             ...         ...        ...      ...        ...        ...\n",
       "2000-12-22      4.0         4.0        4.0      4.0        4.0        4.0\n",
       "2000-12-26      4.0         4.0        3.0      3.0        4.0        4.0\n",
       "2000-12-27      4.0         4.0        4.0      4.0        3.0        4.0\n",
       "2000-12-28      4.0         4.0        3.0      4.0        4.0        4.0\n",
       "2000-12-29      3.0         4.0        4.0      4.0        3.0        4.0\n",
       "\n",
       "[1702 rows x 6 columns]"
      ]
     },
     "execution_count": 124,
     "metadata": {},
     "output_type": "execute_result"
    }
   ],
   "source": [
    "returns_class"
   ]
  },
  {
   "cell_type": "code",
   "execution_count": 89,
   "metadata": {},
   "outputs": [
    {
     "data": {
      "application/vnd.jupyter.widget-view+json": {
       "model_id": "b90cd8985c7d42f7adf890181edd703f",
       "version_major": 2,
       "version_minor": 0
      },
      "text/plain": [
       "HBox(children=(FloatProgress(value=0.0, max=1702.0), HTML(value='')))"
      ]
     },
     "metadata": {},
     "output_type": "display_data"
    },
    {
     "name": "stdout",
     "output_type": "stream",
     "text": [
      "\n"
     ]
    },
    {
     "data": {
      "text/html": [
       "<div>\n",
       "<style scoped>\n",
       "    .dataframe tbody tr th:only-of-type {\n",
       "        vertical-align: middle;\n",
       "    }\n",
       "\n",
       "    .dataframe tbody tr th {\n",
       "        vertical-align: top;\n",
       "    }\n",
       "\n",
       "    .dataframe thead th {\n",
       "        text-align: right;\n",
       "    }\n",
       "</style>\n",
       "<table border=\"1\" class=\"dataframe\">\n",
       "  <thead>\n",
       "    <tr style=\"text-align: right;\">\n",
       "      <th></th>\n",
       "      <th>benchmark_count</th>\n",
       "    </tr>\n",
       "    <tr>\n",
       "      <th>Date</th>\n",
       "      <th></th>\n",
       "    </tr>\n",
       "  </thead>\n",
       "  <tbody>\n",
       "    <tr>\n",
       "      <th>1994-04-06</th>\n",
       "      <td>0.0</td>\n",
       "    </tr>\n",
       "    <tr>\n",
       "      <th>1994-04-07</th>\n",
       "      <td>0.0</td>\n",
       "    </tr>\n",
       "    <tr>\n",
       "      <th>1994-04-08</th>\n",
       "      <td>0.0</td>\n",
       "    </tr>\n",
       "    <tr>\n",
       "      <th>1994-04-11</th>\n",
       "      <td>1.0</td>\n",
       "    </tr>\n",
       "    <tr>\n",
       "      <th>1994-04-12</th>\n",
       "      <td>2.0</td>\n",
       "    </tr>\n",
       "    <tr>\n",
       "      <th>...</th>\n",
       "      <td>...</td>\n",
       "    </tr>\n",
       "    <tr>\n",
       "      <th>2000-12-22</th>\n",
       "      <td>903.0</td>\n",
       "    </tr>\n",
       "    <tr>\n",
       "      <th>2000-12-26</th>\n",
       "      <td>903.0</td>\n",
       "    </tr>\n",
       "    <tr>\n",
       "      <th>2000-12-27</th>\n",
       "      <td>903.0</td>\n",
       "    </tr>\n",
       "    <tr>\n",
       "      <th>2000-12-28</th>\n",
       "      <td>903.0</td>\n",
       "    </tr>\n",
       "    <tr>\n",
       "      <th>2000-12-29</th>\n",
       "      <td>903.0</td>\n",
       "    </tr>\n",
       "  </tbody>\n",
       "</table>\n",
       "<p>1702 rows × 1 columns</p>\n",
       "</div>"
      ],
      "text/plain": [
       "            benchmark_count\n",
       "Date                       \n",
       "1994-04-06              0.0\n",
       "1994-04-07              0.0\n",
       "1994-04-08              0.0\n",
       "1994-04-11              1.0\n",
       "1994-04-12              2.0\n",
       "...                     ...\n",
       "2000-12-22            903.0\n",
       "2000-12-26            903.0\n",
       "2000-12-27            903.0\n",
       "2000-12-28            903.0\n",
       "2000-12-29            903.0\n",
       "\n",
       "[1702 rows x 1 columns]"
      ]
     },
     "execution_count": 89,
     "metadata": {},
     "output_type": "execute_result"
    }
   ],
   "source": [
    "accuracy = pd.DataFrame(index = returns_class.index)\n",
    "accuracy['benchmark_count'] = np.zeros(length)\n",
    "count = 0\n",
    "for t in tqdm(returns_class.index):    \n",
    "    if returns_class['benchmark'][t] == returns_class['portfolio'][t]:\n",
    "        count += 1\n",
    "        accuracy.loc[[t], ['benchmark_count']]= count\n",
    "    else:\n",
    "        accuracy.loc[[t], ['benchmark_count']]= count\n",
    "            \n",
    "            "
   ]
  },
  {
   "cell_type": "code",
   "execution_count": 125,
   "metadata": {},
   "outputs": [
    {
     "data": {
      "application/vnd.jupyter.widget-view+json": {
       "model_id": "b0ec1436eef949d2aef11f8a878dee91",
       "version_major": 2,
       "version_minor": 0
      },
      "text/plain": [
       "HBox(children=(FloatProgress(value=0.0, max=1702.0), HTML(value='')))"
      ]
     },
     "metadata": {},
     "output_type": "display_data"
    },
    {
     "name": "stdout",
     "output_type": "stream",
     "text": [
      "\n"
     ]
    },
    {
     "data": {
      "application/vnd.jupyter.widget-view+json": {
       "model_id": "f97cc4c2d9c445dd88215e4e1a10a5db",
       "version_major": 2,
       "version_minor": 0
      },
      "text/plain": [
       "HBox(children=(FloatProgress(value=0.0, max=1702.0), HTML(value='')))"
      ]
     },
     "metadata": {},
     "output_type": "display_data"
    },
    {
     "name": "stdout",
     "output_type": "stream",
     "text": [
      "\n"
     ]
    },
    {
     "data": {
      "application/vnd.jupyter.widget-view+json": {
       "model_id": "9ae983c6f42b460a84db4ebb2b03d958",
       "version_major": 2,
       "version_minor": 0
      },
      "text/plain": [
       "HBox(children=(FloatProgress(value=0.0, max=1702.0), HTML(value='')))"
      ]
     },
     "metadata": {},
     "output_type": "display_data"
    },
    {
     "name": "stdout",
     "output_type": "stream",
     "text": [
      "\n"
     ]
    },
    {
     "data": {
      "application/vnd.jupyter.widget-view+json": {
       "model_id": "503b4e6d517a40e49d4444543f60ddf9",
       "version_major": 2,
       "version_minor": 0
      },
      "text/plain": [
       "HBox(children=(FloatProgress(value=0.0, max=1702.0), HTML(value='')))"
      ]
     },
     "metadata": {},
     "output_type": "display_data"
    },
    {
     "name": "stdout",
     "output_type": "stream",
     "text": [
      "\n"
     ]
    }
   ],
   "source": [
    "for i in ['LR', 'LASSO', 'RF','MLPR']:\n",
    "    accuracy['{}_count'.format(i)] = np.zeros(length)\n",
    "    count = 0\n",
    "    for t in tqdm(returns_class.index):\n",
    "        if returns_class['{}_pred'.format(i)][t] == returns_class['portfolio'][t]:\n",
    "            count += 1\n",
    "            accuracy['{}_count'.format(i)][t] = count\n",
    "        else:\n",
    "            accuracy['{}_count'.format(i)][t] = count\n",
    "  \n"
   ]
  },
  {
   "cell_type": "code",
   "execution_count": 126,
   "metadata": {},
   "outputs": [
    {
     "data": {
      "text/html": [
       "<div>\n",
       "<style scoped>\n",
       "    .dataframe tbody tr th:only-of-type {\n",
       "        vertical-align: middle;\n",
       "    }\n",
       "\n",
       "    .dataframe tbody tr th {\n",
       "        vertical-align: top;\n",
       "    }\n",
       "\n",
       "    .dataframe thead th {\n",
       "        text-align: right;\n",
       "    }\n",
       "</style>\n",
       "<table border=\"1\" class=\"dataframe\">\n",
       "  <thead>\n",
       "    <tr style=\"text-align: right;\">\n",
       "      <th></th>\n",
       "      <th>benchmark_count</th>\n",
       "      <th>LR_count</th>\n",
       "      <th>LASSO_count</th>\n",
       "      <th>RF_count</th>\n",
       "      <th>MLPR_count</th>\n",
       "    </tr>\n",
       "    <tr>\n",
       "      <th>Date</th>\n",
       "      <th></th>\n",
       "      <th></th>\n",
       "      <th></th>\n",
       "      <th></th>\n",
       "      <th></th>\n",
       "    </tr>\n",
       "  </thead>\n",
       "  <tbody>\n",
       "    <tr>\n",
       "      <th>1994-04-06</th>\n",
       "      <td>0.0</td>\n",
       "      <td>1.0</td>\n",
       "      <td>0.0</td>\n",
       "      <td>0.0</td>\n",
       "      <td>1.0</td>\n",
       "    </tr>\n",
       "    <tr>\n",
       "      <th>1994-04-07</th>\n",
       "      <td>0.0</td>\n",
       "      <td>2.0</td>\n",
       "      <td>0.0</td>\n",
       "      <td>0.0</td>\n",
       "      <td>1.0</td>\n",
       "    </tr>\n",
       "    <tr>\n",
       "      <th>1994-04-08</th>\n",
       "      <td>0.0</td>\n",
       "      <td>3.0</td>\n",
       "      <td>0.0</td>\n",
       "      <td>1.0</td>\n",
       "      <td>2.0</td>\n",
       "    </tr>\n",
       "    <tr>\n",
       "      <th>1994-04-11</th>\n",
       "      <td>1.0</td>\n",
       "      <td>3.0</td>\n",
       "      <td>0.0</td>\n",
       "      <td>2.0</td>\n",
       "      <td>3.0</td>\n",
       "    </tr>\n",
       "    <tr>\n",
       "      <th>1994-04-12</th>\n",
       "      <td>2.0</td>\n",
       "      <td>3.0</td>\n",
       "      <td>0.0</td>\n",
       "      <td>3.0</td>\n",
       "      <td>4.0</td>\n",
       "    </tr>\n",
       "    <tr>\n",
       "      <th>...</th>\n",
       "      <td>...</td>\n",
       "      <td>...</td>\n",
       "      <td>...</td>\n",
       "      <td>...</td>\n",
       "      <td>...</td>\n",
       "    </tr>\n",
       "    <tr>\n",
       "      <th>2000-12-22</th>\n",
       "      <td>903.0</td>\n",
       "      <td>984.0</td>\n",
       "      <td>971.0</td>\n",
       "      <td>1405.0</td>\n",
       "      <td>957.0</td>\n",
       "    </tr>\n",
       "    <tr>\n",
       "      <th>2000-12-26</th>\n",
       "      <td>903.0</td>\n",
       "      <td>984.0</td>\n",
       "      <td>971.0</td>\n",
       "      <td>1406.0</td>\n",
       "      <td>957.0</td>\n",
       "    </tr>\n",
       "    <tr>\n",
       "      <th>2000-12-27</th>\n",
       "      <td>903.0</td>\n",
       "      <td>985.0</td>\n",
       "      <td>972.0</td>\n",
       "      <td>1407.0</td>\n",
       "      <td>958.0</td>\n",
       "    </tr>\n",
       "    <tr>\n",
       "      <th>2000-12-28</th>\n",
       "      <td>903.0</td>\n",
       "      <td>985.0</td>\n",
       "      <td>972.0</td>\n",
       "      <td>1407.0</td>\n",
       "      <td>958.0</td>\n",
       "    </tr>\n",
       "    <tr>\n",
       "      <th>2000-12-29</th>\n",
       "      <td>903.0</td>\n",
       "      <td>985.0</td>\n",
       "      <td>973.0</td>\n",
       "      <td>1408.0</td>\n",
       "      <td>959.0</td>\n",
       "    </tr>\n",
       "  </tbody>\n",
       "</table>\n",
       "<p>1702 rows × 5 columns</p>\n",
       "</div>"
      ],
      "text/plain": [
       "            benchmark_count  LR_count  LASSO_count  RF_count  MLPR_count\n",
       "Date                                                                    \n",
       "1994-04-06              0.0       1.0          0.0       0.0         1.0\n",
       "1994-04-07              0.0       2.0          0.0       0.0         1.0\n",
       "1994-04-08              0.0       3.0          0.0       1.0         2.0\n",
       "1994-04-11              1.0       3.0          0.0       2.0         3.0\n",
       "1994-04-12              2.0       3.0          0.0       3.0         4.0\n",
       "...                     ...       ...          ...       ...         ...\n",
       "2000-12-22            903.0     984.0        971.0    1405.0       957.0\n",
       "2000-12-26            903.0     984.0        971.0    1406.0       957.0\n",
       "2000-12-27            903.0     985.0        972.0    1407.0       958.0\n",
       "2000-12-28            903.0     985.0        972.0    1407.0       958.0\n",
       "2000-12-29            903.0     985.0        973.0    1408.0       959.0\n",
       "\n",
       "[1702 rows x 5 columns]"
      ]
     },
     "execution_count": 126,
     "metadata": {},
     "output_type": "execute_result"
    }
   ],
   "source": [
    "accuracy"
   ]
  },
  {
   "cell_type": "code",
   "execution_count": 127,
   "metadata": {},
   "outputs": [
    {
     "data": {
      "text/html": [
       "<div>\n",
       "<style scoped>\n",
       "    .dataframe tbody tr th:only-of-type {\n",
       "        vertical-align: middle;\n",
       "    }\n",
       "\n",
       "    .dataframe tbody tr th {\n",
       "        vertical-align: top;\n",
       "    }\n",
       "\n",
       "    .dataframe thead th {\n",
       "        text-align: right;\n",
       "    }\n",
       "</style>\n",
       "<table border=\"1\" class=\"dataframe\">\n",
       "  <thead>\n",
       "    <tr style=\"text-align: right;\">\n",
       "      <th></th>\n",
       "      <th>benchmark</th>\n",
       "      <th>LR_acc</th>\n",
       "      <th>LASSO_acc</th>\n",
       "      <th>RF_acc</th>\n",
       "      <th>MLPR_acc</th>\n",
       "    </tr>\n",
       "  </thead>\n",
       "  <tbody>\n",
       "    <tr>\n",
       "      <th>0</th>\n",
       "      <td>53%</td>\n",
       "      <td>58%</td>\n",
       "      <td>57%</td>\n",
       "      <td>83%</td>\n",
       "      <td>56%</td>\n",
       "    </tr>\n",
       "  </tbody>\n",
       "</table>\n",
       "</div>"
      ],
      "text/plain": [
       "  benchmark LR_acc LASSO_acc RF_acc MLPR_acc\n",
       "0       53%    58%       57%    83%      56%"
      ]
     },
     "execution_count": 127,
     "metadata": {},
     "output_type": "execute_result"
    }
   ],
   "source": [
    "benchmark_acc = '{:.0%}'.format(accuracy['benchmark_count'][-1]/length)\n",
    "percentage_acc = pd.DataFrame([benchmark_acc],columns = ['benchmark'])\n",
    "\n",
    "for i in ['LR', 'LASSO', 'RF', 'MLPR']:\n",
    "    acc = pd.DataFrame(['{:.0%}'.format(accuracy['{}_count'.format(i)][-1]/length)], columns = ['{}_acc'.format(i)])\n",
    "    percentage_acc = pd.concat([percentage_acc, acc], axis = 1)\n",
    "    \n",
    "percentage_acc\n"
   ]
  },
  {
   "cell_type": "code",
   "execution_count": 128,
   "metadata": {},
   "outputs": [
    {
     "data": {
      "image/png": "[encoded data removed]",
      "text/plain": [
       "<Figure size 432x288 with 1 Axes>"
      ]
     },
     "metadata": {
      "needs_background": "light"
     },
     "output_type": "display_data"
    }
   ],
   "source": [
    "plt.figure()\n",
    "plt.plot(accuracy['benchmark_count'], label = 'benchmark ' + percentage_acc['benchmark'][0])\n",
    "for i in ['LR', 'LASSO', 'RF', 'MLPR']:\n",
    "    plt.plot(accuracy['{}_count'.format(i)], label = '{}_model '.format(i) + percentage_acc['{}_acc'.format(i)][0])\n",
    "\n",
    "plt.legend()\n",
    "plt.xlabel('date')\n",
    "plt.ylabel('accurate number')\n",
    "plt.title('Classification performance')\n",
    "\n",
    "\n",
    "plt.show()"
   ]
  }
 ],
 "metadata": {
  "hide_input": false,
  "kernelspec": {
   "display_name": "Python 3",
   "language": "python",
   "name": "python3"
  },
  "language_info": {
   "codemirror_mode": {
    "name": "ipython",
    "version": 3
   },
   "file_extension": ".py",
   "mimetype": "text/x-python",
   "name": "python",
   "nbconvert_exporter": "python",
   "pygments_lexer": "ipython3",
   "version": "3.8.5"
  }
 },
 "nbformat": 4,
 "nbformat_minor": 4
}
